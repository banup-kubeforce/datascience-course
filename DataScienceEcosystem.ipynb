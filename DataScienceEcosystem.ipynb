{
 "cells": [
  {
   "cell_type": "markdown",
   "id": "58ef216f-4ecc-452b-92eb-0d8d09b1e5f9",
   "metadata": {},
   "source": [
    "# Data Science Tools and Ecosystem"
   ]
  },
  {
   "cell_type": "markdown",
   "id": "957f6363-77cd-41f1-932e-8eeacc3905c4",
   "metadata": {},
   "source": [
    "## Author \n",
    "Banu Parasuraman"
   ]
  },
  {
   "cell_type": "markdown",
   "id": "9bfa7ae0-9087-456e-91f2-06f28a47a0ec",
   "metadata": {},
   "source": [
    "**In this notebook, Data Science Tools and Ecosystem are summarized.**  "
   ]
  },
  {
   "cell_type": "markdown",
   "id": "824c2e58-c97f-41d7-a2af-f238927763df",
   "metadata": {},
   "source": [
    " \n",
    " *Objectives:*\n",
    " * List Popular Languages used by Data Scientists\n",
    " * List common libraries used by Data Scientists\n",
    " * List Data Science tools used"
   ]
  },
  {
   "cell_type": "markdown",
   "id": "08f8ce93-78f6-48a6-ade1-389e294e8cc8",
   "metadata": {},
   "source": [
    "Some of the popular languages that Data Scientists use are:\n",
    "1. Python\n",
    "1. R\n",
    "1Julia"
   ]
  },
  {
   "cell_type": "markdown",
   "id": "58de7965-e7cc-4a6e-bc08-4f04f1f9b875",
   "metadata": {},
   "source": [
    "Some of the commonly used libraries used by Data Scientists include:\n",
    "1. NumPy\n",
    "2. SciPy\n",
    "3. Pandas"
   ]
  },
  {
   "cell_type": "markdown",
   "id": "6f2ea2fa-9ad8-46a8-bc2f-5cf564d8ea98",
   "metadata": {},
   "source": [
    "<Table><tr><th>Data Science Tools</th></tr>\n",
    "<tr><td>SciKit-Learn</td></tr>\n",
    "<tr><td>RStudio</td></tr>\n",
    "<tr><td>JupyterLab</td></tr>\n"
   ]
  },
  {
   "cell_type": "markdown",
   "id": "36b12edd-a5f4-453a-844f-0644adb9fc4f",
   "metadata": {},
   "source": [
    "### Below are a few examples of evaluating arithmetic expressions in Python\n"
   ]
  },
  {
   "cell_type": "code",
   "execution_count": 6,
   "id": "3276d026-ec37-42bb-b3e2-247688294a50",
   "metadata": {},
   "outputs": [
    {
     "data": {
      "text/plain": [
       "10"
      ]
     },
     "execution_count": 6,
     "metadata": {},
     "output_type": "execute_result"
    }
   ],
   "source": [
    "8+2"
   ]
  },
  {
   "cell_type": "code",
   "execution_count": 7,
   "id": "9eee7131-baa4-4b3d-9366-8de6c1d1c30f",
   "metadata": {},
   "outputs": [
    {
     "data": {
      "text/plain": [
       "8"
      ]
     },
     "execution_count": 7,
     "metadata": {},
     "output_type": "execute_result"
    }
   ],
   "source": [
    "9-1"
   ]
  },
  {
   "cell_type": "code",
   "execution_count": 8,
   "id": "5262990d-fb26-4a8c-ba19-4fafe5ee34b4",
   "metadata": {},
   "outputs": [
    {
     "data": {
      "text/plain": [
       "10.0"
      ]
     },
     "execution_count": 8,
     "metadata": {},
     "output_type": "execute_result"
    }
   ],
   "source": [
    "10/1"
   ]
  },
  {
   "cell_type": "code",
   "execution_count": 9,
   "id": "032ce14f-622d-4525-aa00-099e12ea8943",
   "metadata": {},
   "outputs": [
    {
     "data": {
      "text/plain": [
       "43"
      ]
     },
     "execution_count": 9,
     "metadata": {},
     "output_type": "execute_result"
    }
   ],
   "source": [
    "8*5+6-3"
   ]
  },
  {
   "cell_type": "markdown",
   "id": "862f3ba3-52b1-43e3-94bc-9095b6d35732",
   "metadata": {},
   "source": [
    "This a simple arithmetic expression to mutiply then add integers"
   ]
  },
  {
   "cell_type": "code",
   "execution_count": 10,
   "id": "d895e1c6-a75e-4138-9d35-52ac555d434b",
   "metadata": {},
   "outputs": [
    {
     "data": {
      "text/plain": [
       "17"
      ]
     },
     "execution_count": 10,
     "metadata": {},
     "output_type": "execute_result"
    }
   ],
   "source": [
    "(3*4)+5"
   ]
  },
  {
   "cell_type": "markdown",
   "id": "d1eef2cf-b09e-4031-b238-d8ed996bc275",
   "metadata": {},
   "source": [
    "This will convert 200 minutes to hours by diving by 60"
   ]
  },
  {
   "cell_type": "code",
   "execution_count": 12,
   "id": "a8dfb2c5-2ef9-49dd-a088-adfbb9cf8fb3",
   "metadata": {},
   "outputs": [
    {
     "data": {
      "text/plain": [
       "3.3333333333333335"
      ]
     },
     "execution_count": 12,
     "metadata": {},
     "output_type": "execute_result"
    }
   ],
   "source": [
    "200/60"
   ]
  },
  {
   "cell_type": "code",
   "execution_count": null,
   "id": "0ba7da4b-ce64-4718-962c-9de84ef0d891",
   "metadata": {},
   "outputs": [],
   "source": []
  }
 ],
 "metadata": {
  "kernelspec": {
   "display_name": "Python 3 (ipykernel)",
   "language": "python",
   "name": "python3"
  },
  "language_info": {
   "codemirror_mode": {
    "name": "ipython",
    "version": 3
   },
   "file_extension": ".py",
   "mimetype": "text/x-python",
   "name": "python",
   "nbconvert_exporter": "python",
   "pygments_lexer": "ipython3",
   "version": "3.9.12"
  }
 },
 "nbformat": 4,
 "nbformat_minor": 5
}
